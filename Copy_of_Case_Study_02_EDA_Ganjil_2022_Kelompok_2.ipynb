{
  "nbformat": 4,
  "nbformat_minor": 0,
  "metadata": {
    "colab": {
      "provenance": [],
      "collapsed_sections": [],
      "authorship_tag": "ABX9TyOQIaOR0GVWMmjdolC/BIi7",
      "include_colab_link": true
    },
    "kernelspec": {
      "name": "python3",
      "display_name": "Python 3"
    },
    "language_info": {
      "name": "python"
    }
  },
  "cells": [
    {
      "cell_type": "markdown",
      "metadata": {
        "id": "view-in-github",
        "colab_type": "text"
      },
      "source": [
        "<a href=\"https://colab.research.google.com/github/muhammadfaridmaulana/Case-Study-01-EDA-Ganjil-2022-Kelompok-5/blob/main/Copy_of_Case_Study_02_EDA_Ganjil_2022_Kelompok_2.ipynb\" target=\"_parent\"><img src=\"https://colab.research.google.com/assets/colab-badge.svg\" alt=\"Open In Colab\"/></a>"
      ]
    },
    {
      "cell_type": "markdown",
      "source": [
        "\n",
        "###Case Study 02 EDA - Ganjil 2022 Kelompok 2\n",
        "\n",
        "###Kelompok 2 \n",
        "\n",
        "###Ketua : Muhammad Farid Maulana (1210940000039)\n",
        "\n",
        "###Anggota : \n",
        "\n",
        "###1. Zahra Khotimah (11210940000003)\n",
        "###2. Agung Taruna Yudho Pratama (11210940000004)\n",
        "###3. Antya Alhikmah Alham (11210940000033)\n",
        "###4. Fanny Wahyu Aprilia (11210940000037)\n",
        "###5. Aisyah Nuraini(11210940000030)\n",
        "\n",
        "###Link Url google collabs dari repository github : https://colab.research.google.com/github/muhammadfaridmaulana/Case-Study-02-EDA-Ganjil-2022-Kelompok-2/blob/main/Case_Study_02_EDA_Ganjil_2022_Kelompok_2.ipynb"
      ],
      "metadata": {
        "id": "XqKAwEMRdBYb"
      }
    },
    {
      "cell_type": "code",
      "source": [
        "#Task One "
      ],
      "metadata": {
        "id": "gMsO6LCjQLHV"
      },
      "execution_count": null,
      "outputs": []
    }
  ]
}