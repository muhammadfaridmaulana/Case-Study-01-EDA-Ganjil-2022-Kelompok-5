{
  "nbformat": 4,
  "nbformat_minor": 0,
  "metadata": {
    "colab": {
      "provenance": [],
      "collapsed_sections": [],
      "authorship_tag": "ABX9TyPA7xICDP+D1XaWAMOXRfh2",
      "include_colab_link": true
    },
    "kernelspec": {
      "name": "python3",
      "display_name": "Python 3"
    },
    "language_info": {
      "name": "python"
    }
  },
  "cells": [
    {
      "cell_type": "markdown",
      "metadata": {
        "id": "view-in-github",
        "colab_type": "text"
      },
      "source": [
        "<a href=\"https://colab.research.google.com/github/muhammadfaridmaulana/Case-Study-01-EDA-Ganjil-2022-Kelompok-5/blob/main/Copy_of_Case_Study_02_EDA_Ganjil_2022_Kelompok_2.ipynb\" target=\"_parent\"><img src=\"https://colab.research.google.com/assets/colab-badge.svg\" alt=\"Open In Colab\"/></a>"
      ]
    },
    {
      "cell_type": "code",
      "source": [
        "print ('halo dunia')"
      ],
      "metadata": {
        "id": "9bamxZU4GqjW"
      },
      "execution_count": null,
      "outputs": []
    }
  ]
}